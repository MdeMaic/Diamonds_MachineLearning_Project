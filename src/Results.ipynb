{
 "cells": [
  {
   "cell_type": "code",
   "execution_count": 1,
   "metadata": {},
   "outputs": [],
   "source": [
    "import pandas as pd"
   ]
  },
  {
   "cell_type": "code",
   "execution_count": 16,
   "metadata": {},
   "outputs": [],
   "source": [
    "results=[\n",
    "    {'ord':1,\n",
    "     'dummy':'YES',\n",
    "     'drop_collinear':'NO',\n",
    "     'standarized':'NO',\n",
    "     'model':'LinearRegression',\n",
    "     'parameters':'default',\n",
    "     'msre':1392551.52,\n",
    "     'score':1131.67372},\n",
    "    {'ord':2,\n",
    "     'dummy':'YES',\n",
    "     'drop_collinear':'YES',\n",
    "     'standarized':'NO',\n",
    "     'model':'RandomForestRegressor',\n",
    "     'parameters':'n_estimators=100',\n",
    "     'msre':403735.82,\n",
    "     'score':583.249332},\n",
    "     {'ord':3,\n",
    "     'dummy':'YES',\n",
    "     'drop_collinear':'YES',\n",
    "     'standarized':'YES',\n",
    "     'model':'RandomForestRegressor',\n",
    "     'parameters':'n_estimators=500',\n",
    "     'msre':348249.36,\n",
    "     'score':\"??\"}\n",
    "]"
   ]
  },
  {
   "cell_type": "code",
   "execution_count": 17,
   "metadata": {},
   "outputs": [],
   "source": [
    "df_results = pd.DataFrame(results)"
   ]
  },
  {
   "cell_type": "code",
   "execution_count": 18,
   "metadata": {},
   "outputs": [
    {
     "data": {
      "text/html": [
       "<div>\n",
       "<style scoped>\n",
       "    .dataframe tbody tr th:only-of-type {\n",
       "        vertical-align: middle;\n",
       "    }\n",
       "\n",
       "    .dataframe tbody tr th {\n",
       "        vertical-align: top;\n",
       "    }\n",
       "\n",
       "    .dataframe thead th {\n",
       "        text-align: right;\n",
       "    }\n",
       "</style>\n",
       "<table border=\"1\" class=\"dataframe\">\n",
       "  <thead>\n",
       "    <tr style=\"text-align: right;\">\n",
       "      <th></th>\n",
       "      <th>ord</th>\n",
       "      <th>dummy</th>\n",
       "      <th>drop_collinear</th>\n",
       "      <th>standarized</th>\n",
       "      <th>model</th>\n",
       "      <th>parameters</th>\n",
       "      <th>msre</th>\n",
       "      <th>score</th>\n",
       "    </tr>\n",
       "  </thead>\n",
       "  <tbody>\n",
       "    <tr>\n",
       "      <th>0</th>\n",
       "      <td>1</td>\n",
       "      <td>YES</td>\n",
       "      <td>NO</td>\n",
       "      <td>NO</td>\n",
       "      <td>LinearRegression</td>\n",
       "      <td>default</td>\n",
       "      <td>1392551.52</td>\n",
       "      <td>1131.67</td>\n",
       "    </tr>\n",
       "    <tr>\n",
       "      <th>1</th>\n",
       "      <td>2</td>\n",
       "      <td>YES</td>\n",
       "      <td>YES</td>\n",
       "      <td>NO</td>\n",
       "      <td>RandomForestRegressor</td>\n",
       "      <td>n_estimators=100</td>\n",
       "      <td>403735.82</td>\n",
       "      <td>583.249</td>\n",
       "    </tr>\n",
       "    <tr>\n",
       "      <th>2</th>\n",
       "      <td>3</td>\n",
       "      <td>YES</td>\n",
       "      <td>YES</td>\n",
       "      <td>YES</td>\n",
       "      <td>RandomForestRegressor</td>\n",
       "      <td>n_estimators=500</td>\n",
       "      <td>348249.36</td>\n",
       "      <td>??</td>\n",
       "    </tr>\n",
       "  </tbody>\n",
       "</table>\n",
       "</div>"
      ],
      "text/plain": [
       "   ord dummy drop_collinear standarized                  model  \\\n",
       "0    1   YES             NO          NO       LinearRegression   \n",
       "1    2   YES            YES          NO  RandomForestRegressor   \n",
       "2    3   YES            YES         YES  RandomForestRegressor   \n",
       "\n",
       "         parameters        msre    score  \n",
       "0           default  1392551.52  1131.67  \n",
       "1  n_estimators=100   403735.82  583.249  \n",
       "2  n_estimators=500   348249.36       ??  "
      ]
     },
     "execution_count": 18,
     "metadata": {},
     "output_type": "execute_result"
    }
   ],
   "source": [
    "df_results"
   ]
  },
  {
   "cell_type": "code",
   "execution_count": null,
   "metadata": {},
   "outputs": [],
   "source": []
  }
 ],
 "metadata": {
  "kernelspec": {
   "display_name": "Python 3",
   "language": "python",
   "name": "python3"
  },
  "language_info": {
   "codemirror_mode": {
    "name": "ipython",
    "version": 3
   },
   "file_extension": ".py",
   "mimetype": "text/x-python",
   "name": "python",
   "nbconvert_exporter": "python",
   "pygments_lexer": "ipython3",
   "version": "3.7.6"
  }
 },
 "nbformat": 4,
 "nbformat_minor": 2
}
